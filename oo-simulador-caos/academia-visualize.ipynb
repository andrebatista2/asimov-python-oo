{
 "cells": [
  {
   "cell_type": "code",
   "id": "initial_id",
   "metadata": {
    "collapsed": true,
    "ExecuteTime": {
     "end_time": "2024-09-11T23:20:38.587955Z",
     "start_time": "2024-09-11T23:20:37.923253Z"
    }
   },
   "source": [
    "import random\n",
    "import seaborn as sns\n",
    "\n",
    "\n",
    "class Academia:\n",
    "    def __init__(self):\n",
    "        self.halteres = [i for i in range(10, 100) if i % 2 == 0]\n",
    "        self.porta_halteres = {}\n",
    "        self.reiniciar_o_dia()\n",
    "\n",
    "    def reiniciar_o_dia(self):\n",
    "        self.porta_halteres = {i: i for i in self.halteres}\n",
    "\n",
    "    def listar_halteres(self):\n",
    "        return [i for i in self.porta_halteres.values() if i != 0]\n",
    "\n",
    "    def listar_espacos(self):\n",
    "        return [i for i, j in self.porta_halteres.items() if j == 0]\n",
    "\n",
    "    def pegar_halter(self, peso):\n",
    "        halt_pos = list(self.porta_halteres.values()).index(peso)\n",
    "        key_halt = list(self.porta_halteres.keys())[halt_pos]\n",
    "\n",
    "        self.porta_halteres[key_halt] = 0\n",
    "        return peso\n",
    "\n",
    "    def devolver_halter(self, pos, peso):\n",
    "        self.porta_halteres[pos] = peso\n",
    "\n",
    "    def calcular_caos(self):\n",
    "        num_caos = [i for i, j in self.porta_halteres.items() if i != j]\n",
    "        return len(num_caos) / len(self.porta_halteres)\n",
    "\n",
    "\n",
    "class Usuario:\n",
    "    def __init__(self, tipo, academia):\n",
    "        self.tipo = tipo  # 1 - Normal, 2 - Bagunceiro\n",
    "        # Vira um ponteiro para a classe instanciada no script.\n",
    "        # Every mundo que fizer alteração, todos vão apontar para o mesmo lugar, alterando os mesmos registros\n",
    "        self.academia = academia\n",
    "        self.peso = 0\n",
    "\n",
    "    def iniciar_treino(self):\n",
    "        lista_pesos = self.academia.listar_halteres()\n",
    "        self.peso = random.choice(lista_pesos)\n",
    "        self.academia.pegar_halter(self.peso)\n",
    "\n",
    "    def finalizar_treino(self):\n",
    "        espacos = self.academia.listar_espacos()\n",
    "\n",
    "        if self.tipo == 1:\n",
    "            if self.peso in espacos:\n",
    "                self.academia.devolver_halter(self.peso, self.peso)\n",
    "            else:\n",
    "                pos = random.choice(espacos)\n",
    "                self.academia.devolver_halter(pos, self.peso)\n",
    "\n",
    "        if self.tipo == 2:\n",
    "            if self.peso in espacos:\n",
    "                pos = random.choice(espacos)\n",
    "                self.academia.devolver_halter(pos, self.peso)\n",
    "\n",
    "        self.peso = 0\n",
    "\n",
    "\n",
    "academia = Academia()\n",
    "usuarios = [Usuario(1, academia) for i in range(20)]\n",
    "usuarios += [Usuario(2, academia) for i in range(1)]\n",
    "\n",
    "random.shuffle(usuarios)\n",
    "list_chaos = []\n",
    "for k in range(50):\n",
    "    academia.reiniciar_o_dia()\n",
    "    for i in range(10):\n",
    "        random.shuffle(usuarios)\n",
    "        for usuario in usuarios:\n",
    "            usuario.iniciar_treino()\n",
    "        for usuario in usuarios:\n",
    "            usuario.finalizar_treino()\n",
    "    list_chaos += [round(academia.calcular_caos() * 100, 2)]\n",
    "\n",
    "\n",
    "sns.displot(list_chaos)"
   ],
   "outputs": [
    {
     "data": {
      "text/plain": [
       "<seaborn.axisgrid.FacetGrid at 0x20471305a60>"
      ]
     },
     "execution_count": 2,
     "metadata": {},
     "output_type": "execute_result"
    },
    {
     "data": {
      "text/plain": [
       "<Figure size 500x500 with 1 Axes>"
      ],
      "image/png": "[encoded data removed]"
     },
     "metadata": {},
     "output_type": "display_data"
    }
   ],
   "execution_count": 2
  },
  {
   "metadata": {},
   "cell_type": "code",
   "outputs": [],
   "execution_count": null,
   "source": "",
   "id": "8239334365f63c76"
  }
 ],
 "metadata": {
  "kernelspec": {
   "display_name": "Python 3",
   "language": "python",
   "name": "python3"
  },
  "language_info": {
   "codemirror_mode": {
    "name": "ipython",
    "version": 2
   },
   "file_extension": ".py",
   "mimetype": "text/x-python",
   "name": "python",
   "nbconvert_exporter": "python",
   "pygments_lexer": "ipython2",
   "version": "2.7.6"
  }
 },
 "nbformat": 4,
 "nbformat_minor": 5
}
